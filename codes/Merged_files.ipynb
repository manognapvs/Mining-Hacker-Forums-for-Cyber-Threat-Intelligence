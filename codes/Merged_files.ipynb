{
 "cells": [
  {
   "attachments": {},
   "cell_type": "markdown",
   "metadata": {},
   "source": [
    "Merged Notebooks"
   ]
  },
  {
   "cell_type": "code",
   "execution_count": null,
   "metadata": {},
   "outputs": [],
   "source": [
    "import pandas as pd\n",
    "\n",
    "csv_42 = pd.read_csv(\"/content/drive/MyDrive/Dataset/10.csv_Part0.txt\", sep=\"\\t\", header=0, usecols=['txtAuthor','txtBody_NoQuote_Clean'])\n",
    "csv_42_11 = pd.read_csv(\"/content/drive/MyDrive/Dataset/11.csv_Part0.txt\", sep=\"\\t\", header=0, usecols=['txtAuthor','txtBody_NoQuote_Clean'])\n",
    "csv_42 = csv_42.append(csv_42_11)\n",
    "print(len(csv_42.index))\n",
    "csv_42_15 = pd.read_csv(\"/content/drive/MyDrive/Dataset/15.csv_Part0.txt\", sep=\"\\t\", header=0, usecols=['txtAuthor','txtBody_NoQuote_Clean'])\n",
    "csv_42 = csv_42.append(csv_42_15)\n",
    "print(len(csv_42.index))\n",
    "csv_42_158 = pd.read_csv(\"/content/drive/MyDrive/Dataset/158.csv_Part0.txt\", sep=\"\\t\", header=0, usecols=['txtAuthor','txtBody_NoQuote_Clean'])\n",
    "csv_42 = csv_42.append(csv_42_158)\n",
    "print(len(csv_42.index))\n",
    "csv_42_159 = pd.read_csv(\"/content/drive/MyDrive/Dataset/159.csv_Part0.txt\", sep=\"\\t\", header=0, usecols=['txtAuthor','txtBody_NoQuote_Clean'])\n",
    "csv_42 = csv_42.append(csv_42_159)\n",
    "print(len(csv_42.index))\n",
    "csv_42_175 = pd.read_csv(\"/content/drive/MyDrive/Dataset/175.csv_Part0.txt\", sep=\"\\t\", header=0, usecols=['txtAuthor','txtBody_NoQuote_Clean'])\n",
    "csv_42 = csv_42.append(csv_42_175)\n",
    "csv_42.to_csv('/content/drive/MyDrive/Dataset/all_author_messages_no_groupby.csv')\n",
    "print(len(csv_42.index))\n",
    "gb = csv_42.groupby('txtAuthor')['txtBody_NoQuote_Clean'].apply(list)\n",
    "# print(gb)\n",
    "# print(type(gb))\n",
    "df = gb.to_frame()\n",
    "df['txtAuthor'] = df.index\n",
    "print(len(df.index))\n",
    "df.to_csv('/content/drive/MyDrive/Dataset/all_author_messages_non_dups.csv')\n",
    "\n",
    "df.head(5)"
   ]
  }
 ],
 "metadata": {
  "language_info": {
   "name": "python"
  },
  "orig_nbformat": 4
 },
 "nbformat": 4,
 "nbformat_minor": 2
}
